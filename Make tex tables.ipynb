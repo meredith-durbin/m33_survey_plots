{
 "cells": [
  {
   "cell_type": "code",
   "execution_count": 1,
   "metadata": {},
   "outputs": [],
   "source": [
    "import glob\n",
    "import numpy as np\n",
    "import pandas as pd\n",
    "import vaex\n",
    "\n",
    "from astropy.coordinates import SkyCoord\n",
    "from astropy.time import Time\n",
    "from m33_utils import open_and_select"
   ]
  },
  {
   "cell_type": "code",
   "execution_count": 2,
   "metadata": {},
   "outputs": [],
   "source": [
    "df = pd.read_csv('../header_info.csv', index_col=0)\n",
    "df['FILT'] = df['FILT_DET'].str.split('-').str[1]\n",
    "coo = SkyCoord(df[['RAC','DECC']].values, frame='icrs', unit='deg')\n",
    "df['COO_STR'] = coo.to_string('hmsdms', format='latex', precision=0)\n",
    "df['RA_STR'] = df['COO_STR'].str.split().str[0]\n",
    "df['DEC_STR'] = df['COO_STR'].str.split().str[1]\n",
    "t = Time(df.EXPSTART, format='mjd')\n",
    "t.format = 'iso'\n",
    "t.precision = 0\n",
    "df['EXPDATE'] = t.value\n",
    "df['EXPT'] = df['EXPTIME'].round(2)\n",
    "df['ORIENT'] = df['ORIENTAT'].round(4)\n",
    "cols = ['TARGNAME','RA_STR','DEC_STR','EXPDATE','EXPT','INSTRUME','APERTURE','FILT','ORIENT']\n",
    "table_obs = df[cols].sort_values(by=['TARGNAME','EXPDATE'])\n",
    "\n",
    "table_obs.to_csv('tables_full/table_obs.csv', index=False)\n",
    "with open('tables/table_obs.tex', 'w') as f:\n",
    "    f.write(table_obs[table_obs.TARGNAME.str.startswith('M33-B01-F01')\n",
    "                     ].to_latex(index=False, escape=False))"
   ]
  },
  {
   "cell_type": "code",
   "execution_count": null,
   "metadata": {},
   "outputs": [],
   "source": [
    "ds = vaex.open('../legacy_phot/M33_full_matched.hdf5')\n",
    "\n",
    "filters = ['F275W','F336W','F475W','F814W','F110W','F160W']\n",
    "for f in filters:\n",
    "    gst_tf = ds[f'{f}_GST_FLAG'].astype(str).str.replace('0','F').str.replace('1','T')\n",
    "    ds.add_virtual_column(f'{f}_GST', gst_tf)\n",
    "cols = ['RA', 'DEC']\n",
    "cols += [f'{f}_{q}' for f in filters for q in ['VEGA','SNR','GST']]\n",
    "ds_phot = ds[cols].fillna(99.999)\n",
    "for c in ds_phot.get_column_names(regex='.*?((VEGA)|(SNR))'):\n",
    "    ds_phot[c] = ds_phot[c].apply(lambda x: np.round(x, 3))\n",
    "ds_phot.export_csv('tables_full/table_phot.csv')\n",
    "df_phot = ds_phot[5:15].to_pandas_df()\n",
    "df_phot.rename(lambda x: x.split('_')[0] if x.endswith('VEGA') else x.split('_')[-1].replace('SNR','S/N'),\n",
    "               axis='columns', inplace=True)\n",
    "\n",
    "with open('tables/table_phot.tex', 'w') as f:\n",
    "    f.write(df_phot.to_latex(index=False))\n",
    "    \n",
    "ds.close_files()"
   ]
  },
  {
   "cell_type": "code",
   "execution_count": null,
   "metadata": {
    "scrolled": false
   },
   "outputs": [],
   "source": [
    "# img1:img30-wfc3/ir, img31:img70-wfc3/uvis, img71:-acs/wfc, \n",
    "df_par = pd.read_csv('../M33_B03_SW/M33_B03_SW_3.param', sep='=', comment='#',\n",
    "                     index_col=0, names=['Parameter','Value'])\n",
    "df_par.index = df_par.index.str.strip()\n",
    "df_par['Value'] = df_par['Value'].astype(str).str.strip()\n",
    "df_par.rename(lambda x: x.replace('img1_', 'IR_'), axis='rows', inplace=True)\n",
    "df_par.rename(lambda x: x.replace('img31_', 'UVIS_'), axis='rows', inplace=True)\n",
    "df_par.rename(lambda x: x.replace('img71_', 'WFC_'), axis='rows', inplace=True)\n",
    "df_par.drop(df_par.filter(regex='img.*?_', axis='rows').index, inplace=True)\n",
    "df_par.drop(df_par.filter(regex='_file', axis='rows').index, inplace=True)\n",
    "df_par.drop(['Nimg', 'xytfile', 'xytpsf', 'psfstars', 'UsePhot', 'photsec'], inplace=True)\n",
    "df_par = df_par.assign(Detector='All')\n",
    "df_par.loc[df_par.filter(regex='(^IR_)|(^WFC3IR)', axis='rows').index, 'Detector'] = 'IR'\n",
    "df_par.loc[df_par.filter(regex='(^UVIS_)|(^WFC3UVIS)', axis='rows').index, 'Detector'] = 'UVIS'\n",
    "df_par.loc[df_par.filter(regex='(^WFC_)|(^ACS)', axis='rows').index, 'Detector'] = 'WFC'\n",
    "df_par.loc['WFC3useCTE', 'Detector'] = 'UVIS/IR'\n",
    "df_par.reset_index(inplace=True)\n",
    "df_par.loc[15, ['Detector', 'Parameter']] = ['All', 'apsky']\n",
    "df_par.drop([16,17], inplace=True)\n",
    "df_par['Parameter'] = df_par['Parameter'].str.replace('IR_','').str.replace('UVIS_','').str.replace('WFC_','')\n",
    "\n",
    "with open('tables/table_par.tex', 'w') as f:\n",
    "    f.write(df_par[['Detector','Parameter','Value']].to_latex(index=False))"
   ]
  },
  {
   "cell_type": "code",
   "execution_count": null,
   "metadata": {},
   "outputs": [],
   "source": [
    "def read_artstars(infile):\n",
    "    ds = open_and_select(infile)\n",
    "    ds['DPOS'] = ds['((X_OUT-X_IN)**2 + (Y_OUT-Y_IN)**2)**0.5']\n",
    "    for f in ds.get_column_names(regex='F.*?W_IN'):\n",
    "        filt = f.split('_')[0]\n",
    "        ds.add_column(f'{filt}_DELTA', ds[f'{filt}_VEGA-{filt}_IN'].evaluate())\n",
    "        selection = f'({filt}_GST) & (DPOS < 2) & (abs({filt}_DELTA) < 2)'\n",
    "        ds.select(selection, name=f'{filt}_detected')\n",
    "        is_detected = ds.evaluate_selection_mask(f'{filt}_detected').astype(int)\n",
    "        ds.add_column(f'{filt}_DET', is_detected)\n",
    "    return ds\n",
    "\n",
    "ds = read_artstars(glob.glob('../artstars/M33_B0?_??_fake_final.hdf5'))\n",
    "\n",
    "filters = ['F275W','F336W','F475W','F814W','F110W','F160W']\n",
    "for f in filters:\n",
    "    gst_tf = ds[f'{f}_DET'].astype(str).str.replace('0','F').str.replace('1','T')\n",
    "    ds.add_virtual_column(f'{f}_DT', gst_tf)\n",
    "cols = ['RA', 'DEC']\n",
    "cols += [f'{f}_{q}' for f in filters for q in ['IN', 'DELTA', 'SNR', 'DT']]\n",
    "ds_ast = ds[cols].fillna(99.999)\n",
    "for c in ds_ast.get_column_names(regex='.*?((VEGA)|(SNR)|(DELTA)|(IN))'):\n",
    "    ds_ast[c] = ds_ast[c].apply(lambda x: np.round(x, 3))\n",
    "ds_ast.export_csv('tables_full/table_asts.csv')\n",
    "df_ast = ds_ast[5:15].to_pandas_df()\n",
    "\n",
    "def rename(x):\n",
    "    if x.endswith('IN'):\n",
    "        name = x.split('_')[0] + ' in'\n",
    "    elif x.endswith('DELTA'):\n",
    "        name = 'Out - in'\n",
    "    elif x.endswith('DT'):\n",
    "        name = 'Recovered'\n",
    "    else:\n",
    "        name = x.split('_')[-1].replace('SNR','S/N')\n",
    "    return name\n",
    "\n",
    "df_ast.rename(rename, axis='columns', inplace=True)\n",
    "\n",
    "with open('tables/table_asts.tex', 'w') as f:\n",
    "    f.write(df_ast.to_latex(index=False))\n",
    "    \n",
    "ds.close_files()"
   ]
  },
  {
   "cell_type": "code",
   "execution_count": null,
   "metadata": {},
   "outputs": [],
   "source": []
  }
 ],
 "metadata": {
  "kernelspec": {
   "display_name": "Python 3",
   "language": "python",
   "name": "python3"
  },
  "language_info": {
   "codemirror_mode": {
    "name": "ipython",
    "version": 3
   },
   "file_extension": ".py",
   "mimetype": "text/x-python",
   "name": "python",
   "nbconvert_exporter": "python",
   "pygments_lexer": "ipython3",
   "version": "3.7.7"
  }
 },
 "nbformat": 4,
 "nbformat_minor": 4
}
