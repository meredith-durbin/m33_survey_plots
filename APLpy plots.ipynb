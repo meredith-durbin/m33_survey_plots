{
 "cells": [
  {
   "cell_type": "code",
   "execution_count": 1,
   "metadata": {},
   "outputs": [],
   "source": [
    "%matplotlib inline\n",
    "%config InlineBackend.figure_format='retina'\n",
    "\n",
    "import aplpy\n",
    "import glob\n",
    "import matplotlib as mpl\n",
    "import matplotlib.pyplot as plt\n",
    "import numpy as np\n",
    "import pandas as pd\n",
    "import seaborn as sns\n",
    "import vaex\n",
    "\n",
    "from astropy.io import fits\n",
    "from astropy.wcs import WCS\n",
    "\n",
    "sns.set(style='ticks', \n",
    "        rc={'font.family'          : 'serif',\n",
    "            'text.usetex'          : True,\n",
    "            'axes.axisbelow'       : True,\n",
    "            'mathtext.fontset'     : 'cm',\n",
    "            'mathtext.default'     : 'regular',\n",
    "            'xtick.direction'      : 'in',\n",
    "            'ytick.direction'      : 'in',\n",
    "            'xtick.major.width'    : 1.1,\n",
    "            'ytick.major.width'    : 1.1,\n",
    "            'axes.labelpad'        : 5.0,\n",
    "            'legend.framealpha'    : 0.95,\n",
    "            'legend.handlelength'  : 1.2,\n",
    "            'legend.handletextpad' : 0.5,\n",
    "       })\n",
    "\n",
    "pal = sns.color_palette('colorblind')\n",
    "dark = sns.color_palette('dark')\n",
    "sns.set_palette(pal)"
   ]
  },
  {
   "cell_type": "code",
   "execution_count": null,
   "metadata": {},
   "outputs": [],
   "source": []
  }
 ],
 "metadata": {
  "kernelspec": {
   "display_name": "Python 3",
   "language": "python",
   "name": "python3"
  },
  "language_info": {
   "codemirror_mode": {
    "name": "ipython",
    "version": 3
   },
   "file_extension": ".py",
   "mimetype": "text/x-python",
   "name": "python",
   "nbconvert_exporter": "python",
   "pygments_lexer": "ipython3",
   "version": "3.7.6"
  }
 },
 "nbformat": 4,
 "nbformat_minor": 4
}
